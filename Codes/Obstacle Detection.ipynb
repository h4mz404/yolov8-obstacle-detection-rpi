{
 "cells": [
  {
   "attachments": {},
   "cell_type": "markdown",
   "metadata": {},
   "source": [
    "# Download the Dataset"
   ]
  },
  {
   "cell_type": "code",
   "execution_count": null,
   "metadata": {},
   "outputs": [],
   "source": [
    "!pip install roboflow\n",
    "\n",
    "from roboflow import Roboflow\n",
    "rf = Roboflow(api_key=\"jA7vYeRcSwu0IZIPTibv\")\n",
    "project = rf.workspace(\"xyz-rtzwg\").project(\"new-f6gjk\")\n",
    "dataset = project.version(2).download(\"yolov8\")\n"
   ]
  },
  {
   "attachments": {},
   "cell_type": "markdown",
   "metadata": {},
   "source": [
    "# Train the Dataset"
   ]
  },
  {
   "cell_type": "code",
   "execution_count": null,
   "metadata": {},
   "outputs": [],
   "source": [
    "!yolo train data='new-2/data.yaml' model='yolov8s.pt' epochs=100 imgsz=64"
   ]
  },
  {
   "attachments": {},
   "cell_type": "markdown",
   "metadata": {},
   "source": [
    "# Predict the model on Test images"
   ]
  },
  {
   "cell_type": "code",
   "execution_count": null,
   "metadata": {},
   "outputs": [],
   "source": [
    "!yolo predict model='runs/detect/train/weights/best.pt' source='new-2/test/images/' conf=0.5"
   ]
  },
  {
   "attachments": {},
   "cell_type": "markdown",
   "metadata": {},
   "source": [
    "# Test the model on webcam"
   ]
  },
  {
   "cell_type": "code",
   "execution_count": null,
   "metadata": {},
   "outputs": [],
   "source": [
    "from ultralytics import YOLO\n",
    "import cv2\n",
    "import cvzone\n",
    "import math\n",
    "\n",
    "cap=cv2.VideoCapture(0)\n",
    "model=YOLO('runs/detect/train/weights/best.pt') # Change the path to your final-weights.pt file to check on our model\n",
    "classnames=['ball', 'bottle', 'mug','nutella','paperbag', 'shoes','ketchup','cup']\n",
    "while True:\n",
    "    ret, frame=cap.read()\n",
    "    # print(frame.shape)\n",
    "    # frame=frame[0:300,:]\n",
    "    results=model(frame,stream=True)\n",
    "    for r in results:\n",
    "        boxes=r.boxes\n",
    "        for box in boxes:\n",
    "            x1,y1,x2,y2=box.xyxy[0]\n",
    "            x1,y1,x2,y2=int(x1),int(y1),int(x2),int(y2)\n",
    "            w=x2-x1\n",
    "            h=y2-y1\n",
    "\n",
    "            bbox=int(x1),int(y1),int(w),int(h)\n",
    "            confidence=math.ceil((box.conf[0])*100)/100\n",
    "            \n",
    "            cls=int(box.cls[0])\n",
    "            if confidence>0.50:\n",
    "                cvzone.cornerRect(frame,bbox)\n",
    "                cvzone.putTextRect(frame,f'{classnames[cls]}' f'{confidence}',(max(0,x1),max(30,y1)))\n",
    "    \n",
    "    cv2.imshow(\"Front cam\",frame)\n",
    "    if cv2.waitKey(1)== ord('q'):\n",
    "        break\n",
    "\n",
    "cap.release()\n",
    "# cv2.destroyAllWindows"
   ]
  },
  {
   "attachments": {},
   "cell_type": "markdown",
   "metadata": {},
   "source": [
    "# Test the model on Rpi camera"
   ]
  },
  {
   "cell_type": "code",
   "execution_count": null,
   "metadata": {},
   "outputs": [],
   "source": [
    "from ultralytics import YOLO\n",
    "import cv2\n",
    "import cvzone\n",
    "import math\n",
    "import io\n",
    "import socket\n",
    "import struct\n",
    "from PIL import Image\n",
    "import numpy\n",
    "\n",
    "model=YOLO('runs/detect/train/weights/best.pt')\n",
    "print('Model Initialized!!!')\n",
    "\n",
    "server_socket = socket.socket(socket.AF_INET, socket.SOCK_STREAM)\n",
    "server_socket.bind(('0.0.0.0', 8000))  \n",
    "server_socket.listen(0)\n",
    "print(\"Listening\")\n",
    "classnames=['ball', 'bottle', 'mug','nutella','paperbag', 'shoes','ketchup','cup']\n",
    "client_socket, client_address = server_socket.accept()\n",
    "print(\"Connected to client:\", client_address)\n",
    "response = '0'\n",
    "connection = client_socket.makefile('rb')\n",
    "try:\n",
    "    img = None\n",
    "    while True:\n",
    "        print('s')\n",
    "        image_len = struct.unpack('<L', connection.read(struct.calcsize('<L')))[0]\n",
    "        if not image_len:\n",
    "            break\n",
    "        image_stream = io.BytesIO()\n",
    "        image_stream.write(connection.read(image_len))\n",
    "        image_stream.seek(0)\n",
    "        image = Image.open(image_stream)\n",
    "        im = cv2.cvtColor(numpy.array(image), cv2.COLOR_RGB2BGR)\n",
    "        frame=im\n",
    "        results=model(frame,stream=True)\n",
    "        print('result')\n",
    "        response = '0'\n",
    "        for r in results:\n",
    "            boxes=r.boxes\n",
    "            for box in boxes:\n",
    "                x1,y1,x2,y2=box.xyxy[0]\n",
    "                x1,y1,x2,y2=int(x1),int(y1),int(x2),int(y2)\n",
    "                w=x2-x1\n",
    "                h=y2-y1\n",
    "                bbox=int(x1),int(y1),int(w),int(h)\n",
    "                confidence=math.ceil((box.conf[0])*100)/100\n",
    "                \n",
    "                cls=int(box.cls[0])\n",
    "                if confidence>0.6:\n",
    "                    cvzone.cornerRect(frame,bbox)\n",
    "                    cvzone.putTextRect(frame,f'{classnames[cls]}' f'{confidence}',(max(0,x1),max(30,y1)))\n",
    "                    response = '1'\n",
    "                \n",
    "        client_socket.send(response.encode())\n",
    "        response = '0'\n",
    "        cv2.imshow(\"Front Cam\",frame)\n",
    "        if cv2.waitKey(1)== ord('q'):\n",
    "            break\n",
    "\n",
    "    cv2.destroyAllWindows()\n",
    "except: \n",
    "    print('Error Occured')\n",
    "finally:\n",
    "    connection.close()\n",
    "    server_socket.close()\n",
    "\n",
    "cv2.destroyAllWindows"
   ]
  }
 ],
 "metadata": {
  "kernelspec": {
   "display_name": "Python 3",
   "language": "python",
   "name": "python3"
  },
  "language_info": {
   "codemirror_mode": {
    "name": "ipython",
    "version": 3
   },
   "file_extension": ".py",
   "mimetype": "text/x-python",
   "name": "python",
   "nbconvert_exporter": "python",
   "pygments_lexer": "ipython3",
   "version": "3.10.10"
  },
  "orig_nbformat": 4
 },
 "nbformat": 4,
 "nbformat_minor": 2
}
